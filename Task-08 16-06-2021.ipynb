{
 "cells": [
  {
   "cell_type": "markdown",
   "id": "dde154c7",
   "metadata": {},
   "source": [
    "Write a program in module\n",
    "\n",
    "Ask the user to enter the data\n",
    "\n",
    "Check the data if it's camelcase print like(Thumbsup)emoji\n",
    "\n",
    "else convert the data into camelcase then speakout successfully converted your data into camelcase"
   ]
  },
  {
   "cell_type": "code",
   "execution_count": null,
   "id": "96cd683c",
   "metadata": {},
   "outputs": [],
   "source": []
  }
 ],
 "metadata": {
  "kernelspec": {
   "display_name": "Python 3",
   "language": "python",
   "name": "python3"
  },
  "language_info": {
   "codemirror_mode": {
    "name": "ipython",
    "version": 3
   },
   "file_extension": ".py",
   "mimetype": "text/x-python",
   "name": "python",
   "nbconvert_exporter": "python",
   "pygments_lexer": "ipython3",
   "version": "3.8.8"
  }
 },
 "nbformat": 4,
 "nbformat_minor": 5
}
