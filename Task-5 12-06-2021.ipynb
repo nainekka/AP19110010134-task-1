{
 "cells": [
  {
   "cell_type": "markdown",
   "id": "2562d3b6",
   "metadata": {},
   "source": [
    " Write a Python script to print a dictionary where the keys are numbers between 1 and 15 (both included) and the values are square of keys\n",
    "Write a Python program to map two lists into a dictionary\n",
    "Write a Python program to sort a list alphabetically in a dictionary\n",
    "input : {'n1': [2, 3, 1], 'n2': [5, 1, 2], 'n3': [3, 2, 4]}\n",
    "output : {'n1': [1, 2, 3], 'n2': [1, 2, 5], 'n3': [2, 3, 4]}\n",
    "1) Write a Python script to print a dictionary where the keys are numbers between 1 and 15 (both included) and the values are square of keys"
   ]
  },
  {
   "cell_type": "code",
   "execution_count": 1,
   "id": "81d8137a",
   "metadata": {},
   "outputs": [
    {
     "name": "stdout",
     "output_type": "stream",
     "text": [
      "{1: 1, 2: 4, 3: 9, 4: 16, 5: 25, 6: 36, 7: 49, 8: 64, 9: 81, 10: 100, 11: 121, 12: 144, 13: 169, 14: 196, 15: 225}\n"
     ]
    }
   ],
   "source": [
    "x=dict()\n",
    "for y in range(1,16):\n",
    "    x[y]=y**2\n",
    "print(x)"
   ]
  },
  {
   "cell_type": "markdown",
   "id": "20c151c1",
   "metadata": {},
   "source": [
    "2) Write a Python program to map two lists into a dictionary"
   ]
  },
  {
   "cell_type": "code",
   "execution_count": 2,
   "id": "5a2766db",
   "metadata": {},
   "outputs": [
    {
     "name": "stdout",
     "output_type": "stream",
     "text": [
      "Dictionary formed is: {'tejaswini': '9.8', 'nainekka': '8.3', 'chandu': '6.9', 'lalitha': 'Fail'}\n"
     ]
    }
   ],
   "source": [
    "students = ['tejaswini', 'nainekka', 'chandu', 'lalitha']\n",
    "grades = ['9.8', '8.3', '6.9', 'Fail']\n",
    "dictionary = dict(zip(students, grades))\n",
    "print(\"Dictionary formed is:\",dictionary)"
   ]
  },
  {
   "cell_type": "markdown",
   "id": "8f30872b",
   "metadata": {},
   "source": [
    "3) Write a Python program to sort a list alphabetically in a dictionary\n",
    "\n",
    "input : {'n1': [2, 3, 1], 'n2': [5, 1, 2], 'n3': [3, 2, 4]}\n",
    "\n",
    "output : {'n1': [1, 2, 3], 'n2': [1, 2, 5], 'n3': [2, 3, 4]}"
   ]
  },
  {
   "cell_type": "code",
   "execution_count": 3,
   "id": "4076e6f4",
   "metadata": {},
   "outputs": [
    {
     "name": "stdout",
     "output_type": "stream",
     "text": [
      "{'n1': [1, 2, 3], 'n2': [1, 2, 5], 'n3': [2, 3, 4]}\n"
     ]
    }
   ],
   "source": [
    "num = {'n1': [2, 3, 1], 'n2': [5, 1, 2], 'n3': [3, 2, 4]}\n",
    "sorted_dict = {x: sorted(y) for x, y in num.items()}\n",
    "print(sorted_dict)"
   ]
  },
  {
   "cell_type": "code",
   "execution_count": null,
   "id": "2c88ed8a",
   "metadata": {},
   "outputs": [],
   "source": []
  }
 ],
 "metadata": {
  "kernelspec": {
   "display_name": "Python 3",
   "language": "python",
   "name": "python3"
  },
  "language_info": {
   "codemirror_mode": {
    "name": "ipython",
    "version": 3
   },
   "file_extension": ".py",
   "mimetype": "text/x-python",
   "name": "python",
   "nbconvert_exporter": "python",
   "pygments_lexer": "ipython3",
   "version": "3.8.8"
  }
 },
 "nbformat": 4,
 "nbformat_minor": 5
}
