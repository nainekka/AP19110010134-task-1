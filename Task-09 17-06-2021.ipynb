{
 "cells": [
  {
   "cell_type": "markdown",
   "id": "10ca0012",
   "metadata": {},
   "source": [
    "Generate a 3 digit OTP from 2 different Classes Mail class and Phone class return 6 digit OTP from both Base classes\n",
    "\n",
    "3-Digit OTP from two different classes(Mail Class & Phone Class)\n"
   ]
  },
  {
   "cell_type": "code",
   "execution_count": 1,
   "id": "fb76cc08",
   "metadata": {},
   "outputs": [],
   "source": [
    "import random\n",
    "class Mail:\n",
    "    def __init__(otp):\n",
    "        otp.v1 = 000\n",
    "        otp.v2 = 999\n",
    "    def m(otp):\n",
    "            print(\"3-Digit OTP:\", random.randint(otp.v1,otp.v2))\n",
    "        \n",
    "class Phone(Mail):\n",
    "    def p(otp):\n",
    "        print(\"3-Digit OTP:\", random.randint(otp.v1,otp.v2))"
   ]
  },
  {
   "cell_type": "markdown",
   "id": "ebecaf38",
   "metadata": {},
   "source": [
    "3-Digit OTP from Mail Class"
   ]
  },
  {
   "cell_type": "code",
   "execution_count": 2,
   "id": "cfb3521c",
   "metadata": {},
   "outputs": [
    {
     "name": "stdout",
     "output_type": "stream",
     "text": [
      "3-Digit OTP: 876\n"
     ]
    }
   ],
   "source": [
    "obj_1 = Mail()\n",
    "obj_1.m()"
   ]
  },
  {
   "cell_type": "markdown",
   "id": "920d3da4",
   "metadata": {},
   "source": [
    "3-Digit OTP from Phone Class"
   ]
  },
  {
   "cell_type": "code",
   "execution_count": 3,
   "id": "36b37137",
   "metadata": {},
   "outputs": [
    {
     "name": "stdout",
     "output_type": "stream",
     "text": [
      "3-Digit OTP: 56\n"
     ]
    }
   ],
   "source": [
    "obj_2=Phone()\n",
    "obj_2.p()"
   ]
  },
  {
   "cell_type": "markdown",
   "id": "76e9eaf4",
   "metadata": {},
   "source": [
    "6-digit OTP from both base classes(superclasses)"
   ]
  },
  {
   "cell_type": "code",
   "execution_count": 4,
   "id": "492d3d1c",
   "metadata": {},
   "outputs": [
    {
     "name": "stdout",
     "output_type": "stream",
     "text": [
      "6-Digit OTP: 357 237\n"
     ]
    }
   ],
   "source": [
    "import random\n",
    "class Mail:\n",
    "    def __init__(otp):\n",
    "        otp.a = random.randint(000,999)\n",
    "class Phone:\n",
    "    def __init__(otp):\n",
    "        otp.b = random.randint(000,999)\n",
    "        \n",
    "class Ali(Phone,Mail):\n",
    "    def __init__(otp):\n",
    "        Mail.__init__(otp)\n",
    "        Phone.__init__(otp)\n",
    "        print(\"6-Digit OTP:\",otp.a,otp.b)\n",
    "obj_1=Ali()"
   ]
  },
  {
   "cell_type": "code",
   "execution_count": null,
   "id": "3a25eef6",
   "metadata": {},
   "outputs": [],
   "source": []
  }
 ],
 "metadata": {
  "kernelspec": {
   "display_name": "Python 3",
   "language": "python",
   "name": "python3"
  },
  "language_info": {
   "codemirror_mode": {
    "name": "ipython",
    "version": 3
   },
   "file_extension": ".py",
   "mimetype": "text/x-python",
   "name": "python",
   "nbconvert_exporter": "python",
   "pygments_lexer": "ipython3",
   "version": "3.8.8"
  }
 },
 "nbformat": 4,
 "nbformat_minor": 5
}
